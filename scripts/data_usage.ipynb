{
 "cells": [
  {
   "cell_type": "code",
   "execution_count": 1,
   "metadata": {},
   "outputs": [],
   "source": [
    "import pandas as pd\n",
    "import numpy as np\n",
    "from matplotlib import pyplot as plt\n",
    "import os"
   ]
  },
  {
   "cell_type": "code",
   "execution_count": 2,
   "metadata": {},
   "outputs": [
    {
     "data": {
      "text/plain": [
       "'C:\\\\Users\\\\Valery Rosales\\\\Documents\\\\Proyecto_GP\\\\scripts'"
      ]
     },
     "execution_count": 2,
     "metadata": {},
     "output_type": "execute_result"
    }
   ],
   "source": [
    "%pwd"
   ]
  },
  {
   "cell_type": "code",
   "execution_count": 7,
   "metadata": {},
   "outputs": [
    {
     "data": {
      "text/plain": [
       "['ANEMO_B_316.dat', 'ANEMO_B_317.dat', 'ANEMO_B_318.dat']"
      ]
     },
     "execution_count": 7,
     "metadata": {},
     "output_type": "execute_result"
    }
   ],
   "source": [
    "os.listdir('../input_data/ANEMO_B')"
   ]
  },
  {
   "cell_type": "code",
   "execution_count": 11,
   "metadata": {},
   "outputs": [],
   "source": [
    "#Importar datos necesarios de ANEMO_B\n",
    "datas=[]\n",
    "for i in [6,7,8]:\n",
    "    data='../input_data/ANEMO_B/ANEMO_B_31'+str(i)+'.dat'\n",
    "    df=pd.read_csv(data, header=3, usecols=[0,4,5], names=['Tiempo','wd','ws'], index_col=0, parse_dates=True, infer_datetime_format=True)\n",
    "    datas.append(df)\n",
    "    \n",
    "df_full=pd.concat([i for i in datas], axis=0)\n",
    "\n",
    "df_day=df_full[(df_full.index>='2018-01-20 00:00:00')&(df_full.index<='2018-01-20 23:59:59')]\n",
    "\n",
    "df_day.to_csv('../output_data/ventosa_2018_01_20.csv', index=True)"
   ]
  }
 ],
 "metadata": {
  "kernelspec": {
   "display_name": "Python 3",
   "language": "python",
   "name": "python3"
  },
  "language_info": {
   "codemirror_mode": {
    "name": "ipython",
    "version": 3
   },
   "file_extension": ".py",
   "mimetype": "text/x-python",
   "name": "python",
   "nbconvert_exporter": "python",
   "pygments_lexer": "ipython3",
   "version": "3.6.10"
  }
 },
 "nbformat": 4,
 "nbformat_minor": 4
}
